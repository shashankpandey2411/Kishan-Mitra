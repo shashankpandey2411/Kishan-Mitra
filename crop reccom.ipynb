{
 "cells": [
  {
   "cell_type": "code",
   "execution_count": 1,
   "id": "aae26109",
   "metadata": {},
   "outputs": [],
   "source": [
    "from sklearn.model_selection import train_test_split\n",
    "import pandas as pd\n",
    "from sklearn.svm import SVC\n",
    "from sklearn.naive_bayes import GaussianNB\n",
    "from sklearn.ensemble import RandomForestClassifier, VotingClassifier\n",
    "from sklearn.neighbors import KNeighborsClassifier\n",
    "from sklearn.metrics import accuracy_score\n",
    "from sklearn import model_selection"
   ]
  },
  {
   "cell_type": "code",
   "execution_count": 2,
   "id": "c6b6ca53",
   "metadata": {},
   "outputs": [],
   "source": [
    "crop = pd.read_csv('Data/crop_recommendation.csv')\n",
    "X = crop.iloc[:,:-1].values\n",
    "Y = crop.iloc[:,-1].values\n"
   ]
  },
  {
   "cell_type": "code",
   "execution_count": 3,
   "id": "74910b96",
   "metadata": {},
   "outputs": [],
   "source": [
    "X_train, X_test, y_train, y_test = train_test_split(X, Y, test_size = 0.15)\n"
   ]
  },
  {
   "cell_type": "code",
   "execution_count": 4,
   "id": "115675e5",
   "metadata": {},
   "outputs": [],
   "source": [
    "\n",
    "models = []\n",
    "models.append(('SVC', SVC(gamma ='auto', probability = True)))\n",
    "models.append(('svm1', SVC(probability=True, kernel='poly', degree=1)))\n",
    "models.append(('svm2', SVC(probability=True, kernel='poly', degree=2)))\n",
    "models.append(('svm3', SVC(probability=True, kernel='poly', degree=3)))\n",
    "models.append(('svm4', SVC(probability=True, kernel='poly', degree=4)))\n",
    "models.append(('svm5', SVC(probability=True, kernel='poly', degree=5)))\n",
    "models.append(('rf',RandomForestClassifier(n_estimators = 21)))\n",
    "models.append(('gnb',GaussianNB()))\n",
    "models.append(('knn1', KNeighborsClassifier(n_neighbors=1)))\n",
    "models.append(('knn3', KNeighborsClassifier(n_neighbors=3)))\n",
    "models.append(('knn5', KNeighborsClassifier(n_neighbors=5)))\n",
    "models.append(('knn7', KNeighborsClassifier(n_neighbors=7)))\n",
    "models.append(('knn9', KNeighborsClassifier(n_neighbors=9)))"
   ]
  },
  {
   "cell_type": "code",
   "execution_count": 5,
   "id": "201c04cf",
   "metadata": {},
   "outputs": [],
   "source": [
    "vot_soft = VotingClassifier(estimators=models, voting='soft')\n",
    "vot_soft.fit(X_train, y_train)\n",
    "y_pred = vot_soft.predict(X_test)"
   ]
  },
  {
   "cell_type": "code",
   "execution_count": 6,
   "id": "65d2e312",
   "metadata": {},
   "outputs": [
    {
     "name": "stdout",
     "output_type": "stream",
     "text": [
      "Accuracy:  0.9727272727272727\n",
      "Voting Score  0\n"
     ]
    }
   ],
   "source": [
    "scores = model_selection.cross_val_score(vot_soft, X_test, y_test,cv=5,scoring='accuracy')\n",
    "print(\"Accuracy: \",scores.mean())\n",
    "\n",
    "# score = accuracy_score(y_test, y_pred)\n",
    "# print(\"Voting Score % d\" % score)"
   ]
  },
  {
   "cell_type": "code",
   "execution_count": null,
   "id": "3fcc7bb0",
   "metadata": {},
   "outputs": [],
   "source": [
    "import pickle\n",
    "pkl_filename = 'Crop_Recommendation.pkl'\n",
    "Model_pkl = open(pkl_filename, 'wb')\n",
    "pickle.dump(vot_soft, Model_pkl)\n",
    "Model_pkl.close()"
   ]
  }
 ],
 "metadata": {
  "kernelspec": {
   "display_name": "Python 3",
   "language": "python",
   "name": "python3"
  },
  "language_info": {
   "codemirror_mode": {
    "name": "ipython",
    "version": 3
   },
   "file_extension": ".py",
   "mimetype": "text/x-python",
   "name": "python",
   "nbconvert_exporter": "python",
   "pygments_lexer": "ipython3",
   "version": "3.8.8"
  }
 },
 "nbformat": 4,
 "nbformat_minor": 5
}
